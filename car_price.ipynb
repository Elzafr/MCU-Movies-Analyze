# Simple_modelling_python

# Import Package and Read Data

import pandas as pd
from sklearn.linear_model import LinearRegression

data = pd.read_csv('Car_price.csv')

data.columns

data['Car Model'].unique()

data.info()

data.describe()

data.describe(include='O')

# Dummies Modelling (Linear Regression)

dummies = pd.get_dummies(data['Car Model'],drop_first=True)
dummies.head()

#data_merged = pd.concat([data,dummies],axis='columns')
data_merged = data.join(dummies)

data_final = data_merged.drop(['Car Model'],axis='columns')

data_final.head()

from sklearn.model_selection import train_test_split

x = data_final.drop(['Sell Price($)'], axis='columns')
y = data_final['Sell Price($)']
x

x_train, x_test, y_train, y_test = train_test_split(x, y, test_size=0.2, random_state=20)

lr = LinearRegression()

lr = lr.fit(x_train,y_train)

lr.predict([[50000,5,0,0]])

lr.score(x,y)

# Label Encoder Modelling (Linear Regression)

from sklearn.preprocessing import LabelEncoder

le = LabelEncoder()
data['Car Model'] = le.fit_transform(data['Car Model'])
data

x = data[['Car Model', 'Mileage', 'Age(yrs)']].values
x

y = data['Sell Price($)']
y

x_train, x_test, y_train, y_test = train_test_split(x, y, test_size=0.2, random_state=20)

lr = LinearRegression()
lr = lr.fit(x_train, y_train)

lr.predict([[1,69000,6]])

y_pred = lr.predict(x_test)

from sklearn.metrics import mean_squared_error

mse = mean_squared_error(y_test, y_pred)

